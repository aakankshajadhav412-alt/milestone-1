{
  "cells": [
    {
      "cell_type": "code",
      "execution_count": null,
      "metadata": {
        "colab": {
          "base_uri": "https://localhost:8080/"
        },
        "id": "ZrXNf5jaXwY7",
        "outputId": "2d7d61d8-2469-49a2-e1aa-77b0d56789e5"
      },
      "outputs": [
        {
          "name": "stdout",
          "output_type": "stream",
          "text": [
            "✅ Libraries installed.\n",
            "✅ Libraries imported.\n"
          ]
        }
      ],
      "source": [
        "!pip install transformers sentencepiece sentence-transformers scikit-learn matplotlib pandas --quiet\n",
        "print(\"✅ Libraries installed.\")\n",
        "\n",
        "import matplotlib.pyplot as plt\n",
        "from collections import Counter\n",
        "import textwrap\n",
        "import re\n",
        "import requests\n",
        "import ssl\n",
        "from transformers import T5ForConditionalGeneration, T5Tokenizer\n",
        "from transformers import BartForConditionalGeneration, BartTokenizer\n",
        "from transformers import PegasusForConditionalGeneration, PegasusTokenizer\n",
        "from sentence_transformers import SentenceTransformer\n",
        "from sklearn.metrics.pairwise import cosine_similarity\n",
        "\n",
        "# Handle SSL for file downloads\n",
        "try:\n",
        "    _create_unverified_https_context = ssl._create_unverified_context\n",
        "except AttributeError:\n",
        "    pass\n",
        "else:\n",
        "    ssl._create_default_https_context = _create_unverified_https_context\n",
        "\n",
        "print(\"✅ Libraries imported.\")"
      ]
    },
    {
      "cell_type": "code",
      "execution_count": null,
      "metadata": {
        "colab": {
          "base_uri": "https://localhost:8080/"
        },
        "id": "84JPXRg4X4TB",
        "outputId": "64b65d00-230e-4886-d6ae-e4452cd03c6d"
      },
      "outputs": [
        {
          "name": "stderr",
          "output_type": "stream",
          "text": [
            "Some weights of PegasusForConditionalGeneration were not initialized from the model checkpoint at google/pegasus-xsum and are newly initialized: ['model.decoder.embed_positions.weight', 'model.encoder.embed_positions.weight']\n",
            "You should probably TRAIN this model on a down-stream task to be able to use it for predictions and inference.\n"
          ]
        },
        {
          "name": "stdout",
          "output_type": "stream",
          "text": [
            "✅ Summarization models loaded: T5, BART, PEGASUS.\n"
          ]
        },
        {
          "name": "stderr",
          "output_type": "stream",
          "text": [
            "Some weights of PegasusForConditionalGeneration were not initialized from the model checkpoint at tuner007/pegasus_paraphrase and are newly initialized: ['model.decoder.embed_positions.weight', 'model.encoder.embed_positions.weight']\n",
            "You should probably TRAIN this model on a down-stream task to be able to use it for predictions and inference.\n"
          ]
        },
        {
          "name": "stdout",
          "output_type": "stream",
          "text": [
            "✅ Paraphrasing models loaded: PEGASUS, T5-Paraphrase, BART-Paraphrase.\n"
          ]
        }
      ],
      "source": [
        "#Load Summarization Models\n",
        "t5_tokenizer = T5Tokenizer.from_pretrained('t5-base')\n",
        "t5_model = T5ForConditionalGeneration.from_pretrained('t5-base')\n",
        "bart_tokenizer = BartTokenizer.from_pretrained('facebook/bart-base')\n",
        "bart_model = BartForConditionalGeneration.from_pretrained('facebook/bart-base')\n",
        "pegasus_sum_tokenizer = PegasusTokenizer.from_pretrained('google/pegasus-xsum')\n",
        "pegasus_sum_model = PegasusForConditionalGeneration.from_pretrained('google/pegasus-xsum')\n",
        "print(\"✅ Summarization models loaded: T5, BART, PEGASUS.\")\n",
        "\n",
        "#Load PEGASUS, T5-Paraphrase, and BART-Paraphrase\n",
        "\n",
        "pegasus_para_tokenizer = PegasusTokenizer.from_pretrained('tuner007/pegasus_paraphrase')\n",
        "pegasus_para_model = PegasusForConditionalGeneration.from_pretrained('tuner007/pegasus_paraphrase')\n",
        "paraphrase_t5_tokenizer = T5Tokenizer.from_pretrained('Vamsi/T5_Paraphrase_Paws')\n",
        "paraphrase_t5_model = T5ForConditionalGeneration.from_pretrained('Vamsi/T5_Paraphrase_Paws')\n",
        "paraphrase_bart_tokenizer = BartTokenizer.from_pretrained('eugenesiow/bart-paraphrase')\n",
        "paraphrase_bart_model = BartForConditionalGeneration.from_pretrained('eugenesiow/bart-paraphrase')\n",
        "print(\"✅ Paraphrasing models loaded: PEGASUS, T5-Paraphrase, BART-Paraphrase.\")"
      ]
    },
    {
      "cell_type": "code",
      "execution_count": null,
      "metadata": {
        "colab": {
          "base_uri": "https://localhost:8080/"
        },
        "id": "B_PFq_bxYTH9",
        "outputId": "f74dab83-a8aa-45ca-8298-36bbe7ecbde5"
      },
      "outputs": [
        {
          "name": "stdout",
          "output_type": "stream",
          "text": [
            "✅ Similarity model loaded.\n"
          ]
        }
      ],
      "source": [
        "#Load SentenceTransformer for similarity.\n",
        "similarity_model = SentenceTransformer('all-MiniLM-L6-v2')\n",
        "print(\"✅ Similarity model loaded.\")\n"
      ]
    },
    {
      "cell_type": "code",
      "execution_count": null,
      "metadata": {
        "id": "FIPQHcY1YYCK"
      },
      "outputs": [],
      "source": [
        "#Load and clean a text file from a URL.\n",
        "def load_text_file(url):\n",
        "    \"\"\"Load and clean text from a URL.\"\"\"\n",
        "    try:\n",
        "        response = requests.get(url, timeout=30)\n",
        "        response.raise_for_status()\n",
        "        text = response.text\n",
        "        # Clean Gutenberg headers/footers\n",
        "        start_idx = max([text.find(marker) for marker in [\"*** START OF\", \"CHAPTER\"]] + [0])\n",
        "        end_idx = text.find(\"*** END OF\")\n",
        "        if start_idx > 0 and end_idx > 0:\n",
        "            text = text[start_idx:end_idx]\n",
        "        if len(text) < 100:\n",
        "            raise ValueError(\"Text is too short.\")\n",
        "        return text.strip(), \"Text file\"\n",
        "    except Exception as e:\n",
        "        print(f\"Error loading text from {url}: {e}\")\n",
        "        fallback = \"\"\"Natural Language Processing enables computers to understand human language.\"\"\"\n",
        "        return fallback, \"Fallback text\""
      ]
    },
    {
      "cell_type": "code",
      "execution_count": null,
      "metadata": {
        "id": "JiMB_yz2YkrW"
      },
      "outputs": [],
      "source": [
        "#Validate text length and content\n",
        "def validate_text(text):\n",
        "    \"\"\"Validate text input.\"\"\"\n",
        "    if not isinstance(text, str) or len(text.strip()) < 50:\n",
        "        raise ValueError(\"Invalid text: must be a string with at least 50 characters.\")\n",
        "    return text"
      ]
    },
    {
      "cell_type": "code",
      "execution_count": null,
      "metadata": {
        "id": "nqeApCaiYsIG"
      },
      "outputs": [],
      "source": [
        "#Load two text files for processing.\n",
        "def load_multiple_text_files(urls):\n",
        "    \"\"\"Load multiple text files with validation.\"\"\"\n",
        "    if len(urls) != 2:\n",
        "        raise ValueError(\"Exactly two URLs must be provided.\")\n",
        "    texts = {}\n",
        "    for i, url in enumerate(urls, 1):\n",
        "        text, source = load_text_file(url)\n",
        "        text = validate_text(text)\n",
        "        texts[f\"Text {i}\"] = {'text': text[:50000], 'source': source}  # Limit size\n",
        "    return texts"
      ]
    },
    {
      "cell_type": "code",
      "execution_count": null,
      "metadata": {
        "colab": {
          "base_uri": "https://localhost:8080/"
        },
        "id": "8fpJ-u0RYyBj",
        "outputId": "16bb804d-f9bf-468b-935b-cd1ea49a5883"
      },
      "outputs": [
        {
          "name": "stdout",
          "output_type": "stream",
          "text": [
            "Text 1 (Text file): 50,000 characters\n",
            "Preview: CHAPTER I.</h3></div>\r\n",
            "\r\n",
            "\r\n",
            "<p>I am by birth a Genevese; and my family is one of the most distinguished\r\n",
            "of that republic. My ancestors had been for ma...\n",
            "\n",
            "Text 2 (Text file): 50,000 characters\n",
            "Preview: CHAPTER II.\r\n",
            "\r\n",
            "\r\n",
            "[Illustration]\r\n",
            "\r\n",
            "Mr. Bennet was among the earliest of those who waited on Mr. Bingley. He\r\n",
            "had always intended to visit him, though ...\n",
            "\n"
          ]
        }
      ],
      "source": [
        "file_urls = [\n",
        "    # Frankenstein by Mary Shelley\n",
        "    \"https://www.gutenberg.org/files/41445/41445-h/41445-h.htm\",\n",
        "    # Pride and Prejudice by Jane Austen\n",
        "    \"https://www.gutenberg.org/files/1342/1342-0.txt\"\n",
        "]\n",
        "\n",
        "# Load texts\n",
        "loaded_texts = load_multiple_text_files(file_urls)\n",
        "\n",
        "# Preview loaded texts\n",
        "for key, data in loaded_texts.items():\n",
        "    print(f\"{key} ({data['source']}): {len(data['text']):,} characters\")\n",
        "    print(f\"Preview: {data['text'][:150]}...\\n\")\n",
        "\n"
      ]
    },
    {
      "cell_type": "code",
      "execution_count": null,
      "metadata": {
        "id": "6WS9RODoaTZ7"
      },
      "outputs": [],
      "source": [
        "def generate_t5_summary(text, min_len=40, max_len=150, beams=4):\n",
        "    \"\"\"Abstractive summarization with T5.\"\"\"\n",
        "    input_text = \"summarize: \" + text.strip().replace(\"\\n\", \" \")\n",
        "    inputs = t5_tokenizer.encode(input_text, return_tensors='pt', max_length=1024, truncation=True)\n",
        "    summary_ids = t5_model.generate(\n",
        "        inputs,\n",
        "        max_length=max_len,\n",
        "        min_length=min_len,\n",
        "        num_beams=beams,\n",
        "        no_repeat_ngram_size=3,\n",
        "        length_penalty=2.0,\n",
        "        early_stopping=True\n",
        "    )\n",
        "    return t5_tokenizer.decode(summary_ids[0], skip_special_tokens=True)"
      ]
    },
    {
      "cell_type": "code",
      "execution_count": null,
      "metadata": {
        "id": "nQag2k8caWnW"
      },
      "outputs": [],
      "source": [
        "def clean_text(text):\n",
        "    \"\"\"Remove special characters and normalize whitespace.\"\"\"\n",
        "    text = re.sub(r'[^\\x00-\\x7F]+', ' ', text)  # Remove non-ASCII characters\n",
        "    text = re.sub(r'\\s+', ' ', text)  # Normalize whitespace\n",
        "    return text.strip()"
      ]
    },
    {
      "cell_type": "code",
      "execution_count": null,
      "metadata": {
        "id": "V3TuGHYDaaGk"
      },
      "outputs": [],
      "source": [
        "def generate_bart_summary(text, min_len=40, max_len=150, beams=4):\n",
        "    \"\"\"Abstractive summarization with BART.\"\"\"\n",
        "    inputs = bart_tokenizer.encode(text, return_tensors='pt', max_length=1024, truncation=True)\n",
        "    summary_ids = bart_model.generate(\n",
        "        inputs,\n",
        "        max_length=max_len,\n",
        "        min_length=min_len,\n",
        "        num_beams=beams,\n",
        "        no_repeat_ngram_size=3,\n",
        "        length_penalty=2.0,\n",
        "        early_stopping=True\n",
        "    )\n",
        "    return bart_tokenizer.decode(summary_ids[0], skip_special_tokens=True)"
      ]
    },
    {
      "cell_type": "code",
      "execution_count": null,
      "metadata": {
        "id": "5nv_rugaacaC"
      },
      "outputs": [],
      "source": [
        "def generate_pegasus_summary(text, min_len=40, max_len=150, beams=4):\n",
        "    \"\"\"Abstractive summarization with PEGASUS.\"\"\"\n",
        "    # Clean and truncate input to prevent tokenization issues\n",
        "    text = clean_text(text[:1500])  # Stricter truncation to 1500 chars\n",
        "    try:\n",
        "        inputs = pegasus_sum_tokenizer.encode(\n",
        "            text,\n",
        "            return_tensors='pt',\n",
        "            max_length=512,  # Reduced max_length for safety\n",
        "            truncation=True,\n",
        "            padding='max_length'  # Ensure consistent input size\n",
        "        )\n",
        "        # Validate token IDs\n",
        "        if inputs.max().item() >= pegasus_sum_tokenizer.vocab_size:\n",
        "            raise ValueError(f\"Token ID {inputs.max().item()} exceeds vocab size {pegasus_sum_tokenizer.vocab_size}.\")\n",
        "        summary_ids = pegasus_sum_model.generate(\n",
        "            inputs,\n",
        "            max_length=max_len,\n",
        "            min_length=min_len,\n",
        "            num_beams=beams,\n",
        "            no_repeat_ngram_size=3,\n",
        "            length_penalty=2.0,\n",
        "            early_stopping=True\n",
        "        )\n",
        "        return pegasus_sum_tokenizer.decode(summary_ids[0], skip_special_tokens=True)\n",
        "    except Exception as e:\n",
        "        print(f\"PEGASUS summarization failed: {e}\")\n",
        "        return \"Summary unavailable due to processing error.\""
      ]
    },
    {
      "cell_type": "code",
      "execution_count": null,
      "metadata": {
        "id": "egaR8W_9afE0"
      },
      "outputs": [],
      "source": [
        "def generate_pegasus_paraphrase(text, num_return=3, beams=10):\n",
        "    \"\"\"Generate paraphrases with PEGASUS.\"\"\"\n",
        "    inputs = pegasus_para_tokenizer.encode(text, return_tensors='pt', truncation=True, max_length=60)\n",
        "    paraphrase_ids = pegasus_para_model.generate(\n",
        "        inputs,\n",
        "        max_length=60,\n",
        "        num_beams=beams,\n",
        "        num_return_sequences=num_return,\n",
        "        early_stopping=True\n",
        "    )\n",
        "    return pegasus_para_tokenizer.batch_decode(paraphrase_ids, skip_special_tokens=True)"
      ]
    },
    {
      "cell_type": "code",
      "execution_count": null,
      "metadata": {
        "id": "1DCNfYBsahk4"
      },
      "outputs": [],
      "source": [
        "def generate_t5_paraphrase(text, num_return=3, beams=10):\n",
        "    \"\"\"Generate paraphrases with T5-Paraphrase.\"\"\"\n",
        "    input_text = f\"paraphrase: {text} </s>\"\n",
        "    inputs = paraphrase_t5_tokenizer.encode(input_text, return_tensors='pt', max_length=512, truncation=True)\n",
        "    paraphrase_ids = paraphrase_t5_model.generate(\n",
        "        inputs,\n",
        "        max_length=60,\n",
        "        num_beams=beams,\n",
        "        num_return_sequences=num_return,\n",
        "        early_stopping=True\n",
        "    )\n",
        "    return paraphrase_t5_tokenizer.batch_decode(paraphrase_ids, skip_special_tokens=True)"
      ]
    },
    {
      "cell_type": "code",
      "execution_count": null,
      "metadata": {
        "id": "uWz1ThZ6ajxg"
      },
      "outputs": [],
      "source": [
        "def generate_bart_paraphrase(text, num_return=3, beams=10):\n",
        "    \"\"\"Generate paraphrases with BART-Paraphrase.\"\"\"\n",
        "    inputs = paraphrase_bart_tokenizer.encode(text, return_tensors='pt', truncation=True, max_length=60)\n",
        "    paraphrase_ids = paraphrase_bart_model.generate(\n",
        "        inputs,\n",
        "        max_length=60,\n",
        "        num_beams=beams,\n",
        "        num_return_sequences=num_return,\n",
        "        early_stopping=True\n",
        "    )\n",
        "    return paraphrase_bart_tokenizer.batch_decode(paraphrase_ids, skip_special_tokens=True)"
      ]
    },
    {
      "cell_type": "code",
      "execution_count": null,
      "metadata": {
        "id": "g8q1Fjj9aldT"
      },
      "outputs": [],
      "source": [
        "def compute_similarity(text1, text2):\n",
        "    \"\"\"Compute cosine similarity between texts.\"\"\"\n",
        "    embeddings = similarity_model.encode([text1, text2])\n",
        "    return cosine_similarity([embeddings[0]], [embeddings[1]])[0][0]"
      ]
    },
    {
      "cell_type": "code",
      "execution_count": null,
      "metadata": {
        "id": "8y3DS7wTaoEU"
      },
      "outputs": [],
      "source": [
        "def analyze_summary_length(summary):\n",
        "    \"\"\"Compute word count of summary.\"\"\"\n",
        "    return len(summary.split())  # Simple split instead of NLTK tokenization"
      ]
    },
    {
      "cell_type": "code",
      "execution_count": null,
      "metadata": {
        "id": "eYJ1zlclaqI0"
      },
      "outputs": [],
      "source": [
        "def similarity_to_original(summary, original_text):\n",
        "    \"\"\"Compute similarity between summary and original.\"\"\"\n",
        "    return compute_similarity(summary, original_text[:2000])"
      ]
    },
    {
      "cell_type": "code",
      "execution_count": null,
      "metadata": {
        "id": "NXr1-vPTatgv"
      },
      "outputs": [],
      "source": [
        "def compare_summarizers_enhanced(text, min_len=40, max_len=150, beams=4):\n",
        "    \"\"\"Enhanced comparison of T5, BART, and PEGASUS for summarization.\"\"\"\n",
        "    t5_sum = generate_t5_summary(text[:2000], min_len, max_len, beams)\n",
        "    bart_sum = generate_bart_summary(text[:2000], min_len, max_len, beams)\n",
        "    pegasus_sum = generate_pegasus_summary(text[:2000], min_len, max_len, beams)\n",
        "\n",
        "    metrics = {\n",
        "        't5': {\n",
        "            'summary': t5_sum,\n",
        "            'length': analyze_summary_length(t5_sum),\n",
        "            'sim_to_original': similarity_to_original(t5_sum, text)\n",
        "        },\n",
        "        'bart': {\n",
        "            'summary': bart_sum,\n",
        "            'length': analyze_summary_length(bart_sum),\n",
        "            'sim_to_original': similarity_to_original(bart_sum, text)\n",
        "        },\n",
        "        'pegasus': {\n",
        "            'summary': pegasus_sum,\n",
        "            'length': analyze_summary_length(pegasus_sum),\n",
        "            'sim_to_original': similarity_to_original(pegasus_sum, text)\n",
        "        },\n",
        "        'sim_t5_bart': compute_similarity(t5_sum, bart_sum),\n",
        "        'sim_t5_pegasus': compute_similarity(t5_sum, pegasus_sum),\n",
        "        'sim_bart_pegasus': compute_similarity(bart_sum, pegasus_sum)\n",
        "    }\n",
        "\n",
        "    print(\"----------- Enhanced Summarization Comparison -----------\")\n",
        "    print(f\"T5 Summary (Length: {metrics['t5']['length']}, Sim to Original: {metrics['t5']['sim_to_original']:.3f}):\")\n",
        "    print(textwrap.fill(t5_sum, width=100))\n",
        "    print(f\"\\nBART Summary (Length: {metrics['bart']['length']}, Sim to Original: {metrics['bart']['sim_to_original']:.3f}):\")\n",
        "    print(textwrap.fill(bart_sum, width=100))\n",
        "    print(f\"\\nPEGASUS Summary (Length: {metrics['pegasus']['length']}, Sim to Original: {metrics['pegasus']['sim_to_original']:.3f}):\")\n",
        "    print(textwrap.fill(pegasus_sum, width=100))\n",
        "    print(f\"\\nSimilarity T5 vs BART: {metrics['sim_t5_bart']:.3f}\")\n",
        "    print(f\"Similarity T5 vs PEGASUS: {metrics['sim_t5_pegasus']:.3f}\")\n",
        "    print(f\"Similarity BART vs PEGASUS: {metrics['sim_bart_pegasus']:.3f}\")\n",
        "\n",
        "    return metrics"
      ]
    },
    {
      "cell_type": "code",
      "execution_count": null,
      "metadata": {
        "id": "DbXD623lav9Z"
      },
      "outputs": [],
      "source": [
        "def compare_paraphrasers_enhanced(text, num_return=3, beams=10):\n",
        "    \"\"\"Enhanced comparison of PEGASUS, T5-Paraphrase, and BART-Paraphrase.\"\"\"\n",
        "    peg_paras = generate_pegasus_paraphrase(text, num_return, beams)\n",
        "    t5_paras = generate_t5_paraphrase(text, num_return, beams)\n",
        "    bart_paras = generate_bart_paraphrase(text, num_return, beams)\n",
        "\n",
        "    metrics = {\n",
        "        'pegasus': {\n",
        "            'paraphrases': peg_paras,\n",
        "            'avg_length': sum(len(p.split()) for p in peg_paras) / len(peg_paras),\n",
        "            'avg_sim_to_original': sum(compute_similarity(p, text) for p in peg_paras) / len(peg_paras)\n",
        "        },\n",
        "        't5_paraphrase': {\n",
        "            'paraphrases': t5_paras,\n",
        "            'avg_length': sum(len(p.split()) for p in t5_paras) / len(t5_paras),\n",
        "            'avg_sim_to_original': sum(compute_similarity(p, text) for p in t5_paras) / len(t5_paras)\n",
        "        },\n",
        "        'bart_paraphrase': {\n",
        "            'paraphrases': bart_paras,\n",
        "            'avg_length': sum(len(p.split()) for p in bart_paras) / len(bart_paras),\n",
        "            'avg_sim_to_original': sum(compute_similarity(p, text) for p in bart_paras) / len(bart_paras)\n",
        "        },\n",
        "        'avg_sim_peg_t5': sum(compute_similarity(peg_paras[i], t5_paras[i]) for i in range(num_return)) / num_return,\n",
        "        'avg_sim_peg_bart': sum(compute_similarity(peg_paras[i], bart_paras[i]) for i in range(num_return)) / num_return,\n",
        "        'avg_sim_t5_bart': sum(compute_similarity(t5_paras[i], bart_paras[i]) for i in range(num_return)) / num_return\n",
        "    }\n",
        "\n",
        "    print(\"----------- Enhanced Paraphrasing Comparison -----------\")\n",
        "    print(f\"PEGASUS Paraphrases (Avg Length: {metrics['pegasus']['avg_length']:.1f}, Avg Sim to Original: {metrics['pegasus']['avg_sim_to_original']:.3f}):\")\n",
        "    for i, p in enumerate(peg_paras, 1):\n",
        "        print(f\"  {i}. {p}\")\n",
        "    print(f\"\\nT5-Paraphrase Paraphrases (Avg Length: {metrics['t5_paraphrase']['avg_length']:.1f}, Avg Sim to Original: {metrics['t5_paraphrase']['avg_sim_to_original']:.3f}):\")\n",
        "    for i, p in enumerate(t5_paras, 1):\n",
        "        print(f\"  {i}. {p}\")\n",
        "    print(f\"\\nBART-Paraphrase Paraphrases (Avg Length: {metrics['bart_paraphrase']['avg_length']:.1f}, Avg Sim to Original: {metrics['bart_paraphrase']['avg_sim_to_original']:.3f}):\")\n",
        "    for i, p in enumerate(bart_paras, 1):\n",
        "        print(f\"  {i}. {p}\")\n",
        "    print(f\"\\nAverage Similarity PEGASUS vs T5-Paraphrase: {metrics['avg_sim_peg_t5']:.3f}\")\n",
        "    print(f\"Average Similarity PEGASUS vs BART-Paraphrase: {metrics['avg_sim_peg_bart']:.3f}\")\n",
        "    print(f\"Average Similarity T5-Paraphrase vs BART-Paraphrase: {metrics['avg_sim_t5_bart']:.3f}\")\n",
        "\n",
        "    return metrics"
      ]
    },
    {
      "cell_type": "code",
      "execution_count": null,
      "metadata": {
        "id": "C7Ui4bTgaz66"
      },
      "outputs": [],
      "source": [
        "class TextMorphPipeline:\n",
        "    \"\"\"Streamlined TextMorph pipeline for text files, no preprocessing or NLP.\"\"\"\n",
        "\n",
        "    def __init__(self):\n",
        "        self.reference_texts = []\n",
        "\n",
        "    def add_reference(self, text):\n",
        "        \"\"\"Add reference text for similarity.\"\"\"\n",
        "        self.reference_texts.append(text)"
      ]
    },
    {
      "cell_type": "code",
      "execution_count": null,
      "metadata": {
        "id": "5UFxntsna2Z7"
      },
      "outputs": [],
      "source": [
        "def pipeline_summarize(self, input_text, summarizer='t5'):\n",
        "    \"\"\"Summarization step in pipeline.\"\"\"\n",
        "    if summarizer == 't5':\n",
        "        summary = generate_t5_summary(input_text)\n",
        "    elif summarizer == 'bart':\n",
        "        summary = generate_bart_summary(input_text)\n",
        "    elif summarizer == 'pegasus':\n",
        "        summary = generate_pegasus_summary(input_text)\n",
        "    else:\n",
        "        raise ValueError(\"Invalid summarizer. Choose 't5', 'bart', or 'pegasus'.\")\n",
        "    return summary, summarizer"
      ]
    },
    {
      "cell_type": "code",
      "execution_count": null,
      "metadata": {
        "id": "vx99Dokka5Dk"
      },
      "outputs": [],
      "source": [
        "def pipeline_paraphrase(self, input_text, paraphrase_sentences=2):\n",
        "    \"\"\"Paraphrasing step with comparison.\"\"\"\n",
        "    # Simple sentence splitting without NLTK\n",
        "    sentences = re.split(r'[.!?]+', input_text)[:paraphrase_sentences]\n",
        "    sentences = [s.strip() for s in sentences if s.strip()]\n",
        "    paraphrases = {}\n",
        "    for i, sent in enumerate(sentences):\n",
        "        key = f'Sentence {i+1}'\n",
        "        metrics = compare_paraphrasers_enhanced(sent)\n",
        "        paraphrases[key] = {'original': sent[:100] + \"...\", 'metrics': metrics}\n",
        "    return paraphrases"
      ]
    },
    {
      "cell_type": "code",
      "execution_count": null,
      "metadata": {
        "id": "5PuM3krHa7Lg"
      },
      "outputs": [],
      "source": [
        "def pipeline_similarity(self, input_text, top_k_similar=2):\n",
        "    \"\"\"Similarity step in pipeline.\"\"\"\n",
        "    if self.reference_texts:\n",
        "        similarities = [(i+1, compute_similarity(input_text[:2000], ref)) for i, ref in enumerate(self.reference_texts)]\n",
        "        similarities.sort(key=lambda x: x[1], reverse=True)\n",
        "        return similarities[:top_k_similar]\n",
        "    return []"
      ]
    },
    {
      "cell_type": "code",
      "execution_count": null,
      "metadata": {
        "id": "ivkKCK75a9R0"
      },
      "outputs": [],
      "source": [
        "def process(self, input_text, summarizer='t5', paraphrase_sentences=2, top_k_similar=2):\n",
        "    \"\"\"Run the full pipeline.\"\"\"\n",
        "    results = {}\n",
        "\n",
        "    summary, used_summarizer = pipeline_summarize(self, input_text, summarizer)\n",
        "    results['summary'] = summary\n",
        "    results['summarizer_used'] = used_summarizer\n",
        "\n",
        "    results['paraphrases'] = pipeline_paraphrase(self, input_text, paraphrase_sentences)\n",
        "\n",
        "    results['similarities'] = pipeline_similarity(self, input_text, top_k_similar)\n",
        "\n",
        "    return results\n",
        "\n",
        "# Bind methods to class\n",
        "TextMorphPipeline.pipeline_summarize = pipeline_summarize\n",
        "TextMorphPipeline.pipeline_paraphrase = pipeline_paraphrase\n",
        "TextMorphPipeline.pipeline_similarity = pipeline_similarity\n",
        "TextMorphPipeline.process = process\n",
        "\n",
        "# Initialize\n",
        "pipeline = TextMorphPipeline()"
      ]
    },
    {
      "cell_type": "code",
      "execution_count": null,
      "metadata": {
        "colab": {
          "base_uri": "https://localhost:8080/"
        },
        "id": "eR6GFnF_bAWL",
        "outputId": "3d8760b2-123a-4db4-ad1e-ffb7c1808291"
      },
      "outputs": [
        {
          "name": "stdout",
          "output_type": "stream",
          "text": [
            "✅ Reference texts added.\n"
          ]
        }
      ],
      "source": [
        "pipeline.add_reference(\"Natural Language Processing powers modern AI applications.\")\n",
        "pipeline.add_reference(\"Machine learning enhances text analysis capabilities.\")\n",
        "print(\" Reference texts added.\")"
      ]
    },
    {
      "cell_type": "code",
      "execution_count": null,
      "metadata": {
        "colab": {
          "base_uri": "https://localhost:8080/"
        },
        "id": "kG2Pft1EbDk-",
        "outputId": "b030d046-73f0-4caa-dc19-7db4a02fcc01"
      },
      "outputs": [
        {
          "name": "stderr",
          "output_type": "stream",
          "text": [
            "/usr/local/lib/python3.12/dist-packages/transformers/models/t5/tokenization_t5.py:287: UserWarning: This sequence already has </s>. In future versions this behavior may lead to duplicated eos tokens being added.\n",
            "  warnings.warn(\n"
          ]
        },
        {
          "name": "stdout",
          "output_type": "stream",
          "text": [
            "----------- Enhanced Paraphrasing Comparison -----------\n",
            "PEGASUS Paraphrases (Avg Length: 2.3, Avg Sim to Original: 0.916):\n",
            "  1. Chapter I.\n",
            "  2. Chapter I\n",
            "  3. Chapter I begins.\n",
            "\n",
            "T5-Paraphrase Paraphrases (Avg Length: 2.0, Avg Sim to Original: 0.551):\n",
            "  1. CHAPTER I\n",
            "  2. CHAPITRE I\n",
            "  3. CHAPTTER I\n",
            "\n",
            "BART-Paraphrase Paraphrases (Avg Length: 2.3, Avg Sim to Original: 0.913):\n",
            "  1. CHAPTER I\n",
            "  2. CHAPTER 1\n",
            "  3. CHAPTER _ I\n",
            "\n",
            "Average Similarity PEGASUS vs T5-Paraphrase: 0.507\n",
            "Average Similarity PEGASUS vs BART-Paraphrase: 0.836\n",
            "Average Similarity T5-Paraphrase vs BART-Paraphrase: 0.499\n"
          ]
        },
        {
          "name": "stderr",
          "output_type": "stream",
          "text": [
            "/usr/local/lib/python3.12/dist-packages/transformers/models/t5/tokenization_t5.py:287: UserWarning: This sequence already has </s>. In future versions this behavior may lead to duplicated eos tokens being added.\n",
            "  warnings.warn(\n"
          ]
        },
        {
          "name": "stdout",
          "output_type": "stream",
          "text": [
            "----------- Enhanced Paraphrasing Comparison -----------\n",
            "PEGASUS Paraphrases (Avg Length: 13.0, Avg Sim to Original: 0.769):\n",
            "  1. My family is one of the most distinguished of that republic.\n",
            "  2. My family is one of the most distinguished in that republic.\n",
            "  3. My family is one of the most distinguished of that republic because I was born a Genevese.\n",
            "\n",
            "T5-Paraphrase Paraphrases (Avg Length: 20.0, Avg Sim to Original: 0.904):\n",
            "  1. /h3>/div> p>I am a Genevese by birth and my family is one of the most distinguished of that republic .\n",
            "  2. /h3>/div> p>I am a Genevese by birth, and my family is one of the most distinguished of that republic .\n",
            "  3. /h3>/div> p>I am by birth a Genevese and my family is one of the most distinguished of that republic .\n",
            "\n",
            "BART-Paraphrase Paraphrases (Avg Length: 19.0, Avg Sim to Original: 0.858):\n",
            "  1. I am by birth a Genevese, and my family is one of the most distinguished descendants of that republic.\n",
            "  2. By birth, I am a Genevese, and my family is one of the most distinguished descendants of that republic.\n",
            "  3. I am a Genevese by birth, and my family is one of the most distinguished descendants of that republic.\n",
            "\n",
            "Average Similarity PEGASUS vs T5-Paraphrase: 0.636\n",
            "Average Similarity PEGASUS vs BART-Paraphrase: 0.846\n",
            "Average Similarity T5-Paraphrase vs BART-Paraphrase: 0.689\n",
            "----------- T5 on First Text (Frankenstein) -----------\n",
            "Summary: i am by birth a Genevese; and my ancestors were counsellors and syndics . my father loved Beaufort\n",
            "with the truest friendship, and was deeply grieved by his retreat . i was the eldest, and the\n",
            "destined successor to all his labours and utility .\n"
          ]
        }
      ],
      "source": [
        "first_text = loaded_texts['Text 1']['text']\n",
        "results_t5_first = pipeline.process(first_text, summarizer='t5')\n",
        "print(\"----------- T5 on First Text (Frankenstein) -----------\")\n",
        "print(f\"Summary: {textwrap.fill(results_t5_first['summary'], width=100)}\")"
      ]
    },
    {
      "cell_type": "code",
      "execution_count": null,
      "metadata": {
        "colab": {
          "background_save": true,
          "base_uri": "https://localhost:8080/"
        },
        "id": "PwaktRWrbG8X",
        "outputId": "70487b7e-70d6-4ccf-8b29-c6a8d16977f0"
      },
      "outputs": [
        {
          "name": "stderr",
          "output_type": "stream",
          "text": [
            "/usr/local/lib/python3.12/dist-packages/transformers/models/t5/tokenization_t5.py:287: UserWarning: This sequence already has </s>. In future versions this behavior may lead to duplicated eos tokens being added.\n",
            "  warnings.warn(\n"
          ]
        },
        {
          "name": "stdout",
          "output_type": "stream",
          "text": [
            "----------- Enhanced Paraphrasing Comparison -----------\n",
            "PEGASUS Paraphrases (Avg Length: 2.3, Avg Sim to Original: 0.916):\n",
            "  1. Chapter I.\n",
            "  2. Chapter I\n",
            "  3. Chapter I begins.\n",
            "\n",
            "T5-Paraphrase Paraphrases (Avg Length: 2.0, Avg Sim to Original: 0.551):\n",
            "  1. CHAPTER I\n",
            "  2. CHAPITRE I\n",
            "  3. CHAPTTER I\n",
            "\n",
            "BART-Paraphrase Paraphrases (Avg Length: 2.3, Avg Sim to Original: 0.913):\n",
            "  1. CHAPTER I\n",
            "  2. CHAPTER 1\n",
            "  3. CHAPTER _ I\n",
            "\n",
            "Average Similarity PEGASUS vs T5-Paraphrase: 0.507\n",
            "Average Similarity PEGASUS vs BART-Paraphrase: 0.836\n",
            "Average Similarity T5-Paraphrase vs BART-Paraphrase: 0.499\n"
          ]
        },
        {
          "name": "stderr",
          "output_type": "stream",
          "text": [
            "/usr/local/lib/python3.12/dist-packages/transformers/models/t5/tokenization_t5.py:287: UserWarning: This sequence already has </s>. In future versions this behavior may lead to duplicated eos tokens being added.\n",
            "  warnings.warn(\n"
          ]
        },
        {
          "name": "stdout",
          "output_type": "stream",
          "text": [
            "----------- Enhanced Paraphrasing Comparison -----------\n",
            "PEGASUS Paraphrases (Avg Length: 13.0, Avg Sim to Original: 0.769):\n",
            "  1. My family is one of the most distinguished of that republic.\n",
            "  2. My family is one of the most distinguished in that republic.\n",
            "  3. My family is one of the most distinguished of that republic because I was born a Genevese.\n",
            "\n",
            "T5-Paraphrase Paraphrases (Avg Length: 20.0, Avg Sim to Original: 0.904):\n",
            "  1. /h3>/div> p>I am a Genevese by birth and my family is one of the most distinguished of that republic .\n",
            "  2. /h3>/div> p>I am a Genevese by birth, and my family is one of the most distinguished of that republic .\n",
            "  3. /h3>/div> p>I am by birth a Genevese and my family is one of the most distinguished of that republic .\n",
            "\n",
            "BART-Paraphrase Paraphrases (Avg Length: 19.0, Avg Sim to Original: 0.858):\n",
            "  1. I am by birth a Genevese, and my family is one of the most distinguished descendants of that republic.\n",
            "  2. By birth, I am a Genevese, and my family is one of the most distinguished descendants of that republic.\n",
            "  3. I am a Genevese by birth, and my family is one of the most distinguished descendants of that republic.\n",
            "\n",
            "Average Similarity PEGASUS vs T5-Paraphrase: 0.636\n",
            "Average Similarity PEGASUS vs BART-Paraphrase: 0.846\n",
            "Average Similarity T5-Paraphrase vs BART-Paraphrase: 0.689\n",
            "----------- T5 on First Text (Frankenstein) -----------\n",
            "Summary: i am by birth a Genevese; and my ancestors were counsellors and syndics . my father loved Beaufort\n",
            "with the truest friendship, and was deeply grieved by his retreat . i was the eldest, and the\n",
            "destined successor to all his labours and utility .\n"
          ]
        }
      ],
      "source": [
        "second_text = loaded_texts['Text 2']['text']\n",
        "results_pegasus_second = pipeline.process(second_text, summarizer='pegasus')\n",
        "print(\"----------- PEGASUS on Second Text (Pride and Prejudice) -----------\")\n",
        "print(f\"Summary: {textwrap.fill(results_pegasus_second['summary'], width=100)}\")"
      ]
    },
    {
      "cell_type": "code",
      "execution_count": 13,
      "metadata": {
        "colab": {
          "base_uri": "https://localhost:8080/"
        },
        "id": "9rHjwpjXb4U_",
        "outputId": "dcd8c761-7db3-450a-84e9-5f4e980a3df8"
      },
      "outputs": [
        {
          "output_type": "stream",
          "name": "stdout",
          "text": [
            "----------- Enhanced Summarization Comparison on First Text -----------\n",
            "----------- Enhanced Summarization Comparison on Second Text -----------\n"
          ]
        }
      ],
      "source": [
        "# Define the function so your code can call it\n",
        "def compare_summarizers_enhanced(text):\n",
        "    \"\"\"\n",
        "    Minimal placeholder function.\n",
        "    Replace the body with your actual summarization logic later.\n",
        "    \"\"\"\n",
        "    # For now, just return the input text in a dictionary\n",
        "    return {\"Dummy Summary\": text[:200] + \"...\"}  # first 200 chars as dummy\n",
        "\n",
        "    # Example electrical engineering texts\n",
        "first_text = \"\"\"\n",
        "A transformer is an electrical device that transfers electrical energy between two or more circuits\n",
        "through electromagnetic induction. Transformers are used to increase or decrease the alternating voltages\n",
        "in electric power applications.\n",
        "\"\"\"\n",
        "\n",
        "second_text = \"\"\"\n",
        "The synchronous motor operates at constant speed irrespective of the load applied to it.\n",
        "It is widely used in applications where precise speed is required.\n",
        "\"\"\"\n",
        "\n",
        "# Now you can call your function\n",
        "comparison_first = compare_summarizers_enhanced(first_text)\n",
        "comparison_second = compare_summarizers_enhanced(second_text)\n",
        "\n",
        "\n",
        "print(\"----------- Enhanced Summarization Comparison on First Text -----------\")\n",
        "comparison_first = compare_summarizers_enhanced(first_text)\n",
        "print(\"----------- Enhanced Summarization Comparison on Second Text -----------\")\n",
        "comparison_second = compare_summarizers_enhanced(second_text)"
      ]
    },
    {
      "cell_type": "code",
      "execution_count": 16,
      "metadata": {
        "colab": {
          "base_uri": "https://localhost:8080/",
          "height": 1000
        },
        "id": "bjo28325b7Xg",
        "outputId": "9b8382db-cc44-48c4-bb5c-afe63cc1b463"
      },
      "outputs": [
        {
          "output_type": "display_data",
          "data": {
            "text/plain": [
              "<Figure size 1000x500 with 2 Axes>"
            ],
            "image/png": "[encoded data removed]"
          },
          "metadata": {}
        },
        {
          "output_type": "display_data",
          "data": {
            "text/plain": [
              "<Figure size 1000x500 with 2 Axes>"
            ],
            "image/png": "[encoded data removed]"
          },
          "metadata": {}
        }
      ],
      "source": [
        "import matplotlib.pyplot as plt\n",
        "\n",
        "# Example dummy metrics\n",
        "comparison_first = {\n",
        "    't5': {'length': 50, 'sim_to_original': 0.85},\n",
        "    'bart': {'length': 55, 'sim_to_original': 0.82},\n",
        "    'pegasus': {'length': 48, 'sim_to_original': 0.88}\n",
        "}\n",
        "\n",
        "comparison_second = {\n",
        "    't5': {'length': 60, 'sim_to_original': 0.80},\n",
        "    'bart': {'length': 62, 'sim_to_original': 0.78},\n",
        "    'pegasus': {'length': 59, 'sim_to_original': 0.83}\n",
        "}\n",
        "\n",
        "def plot_enhanced_summarization_comparison(metrics, title=\"Summarization Comparison\"):\n",
        "    \"\"\"Plot enhanced metrics for summarization models.\"\"\"\n",
        "    fig, (ax1, ax2) = plt.subplots(1, 2, figsize=(10, 5))\n",
        "\n",
        "    # Length\n",
        "    ax1.bar(['T5', 'BART', 'PEGASUS'],\n",
        "            [metrics['t5']['length'], metrics['bart']['length'], metrics['pegasus']['length']],\n",
        "            color='gold')\n",
        "    ax1.set_title('Summary Length')\n",
        "\n",
        "    # Similarity to Original\n",
        "    ax2.bar(['T5', 'BART', 'PEGASUS'],\n",
        "            [metrics['t5']['sim_to_original'],\n",
        "             metrics['bart']['sim_to_original'],\n",
        "             metrics['pegasus']['sim_to_original']],\n",
        "            color='lightcoral')\n",
        "    ax2.set_title('Similarity to Original')\n",
        "\n",
        "    plt.suptitle(title, fontsize=14)\n",
        "    plt.tight_layout(rect=[0, 0, 1, 0.95])\n",
        "    plt.show()\n",
        "\n",
        "# Call the function\n",
        "plot_enhanced_summarization_comparison(comparison_first, title=\"Summarization Comparison (Frankenstein)\")\n",
        "plot_enhanced_summarization_comparison(comparison_second, title=\"Summarization Comparison (Pride and Prejudice)\")\n"
      ]
    },
    {
      "cell_type": "code",
      "execution_count": 18,
      "metadata": {
        "colab": {
          "base_uri": "https://localhost:8080/",
          "height": 512
        },
        "id": "u66tODTEb-qZ",
        "outputId": "41b41c0c-33cf-4eaa-b602-e613c4cc4c7d"
      },
      "outputs": [
        {
          "output_type": "display_data",
          "data": {
            "text/plain": [
              "<Figure size 1000x500 with 2 Axes>"
            ],
            "image/png": "[encoded data removed]"
          },
          "metadata": {}
        }
      ],
      "source": [
        "import matplotlib.pyplot as plt\n",
        "import re\n",
        "\n",
        "# Dummy first_text\n",
        "first_text = \"A transformer transfers electrical energy. It works via electromagnetic induction.\"\n",
        "\n",
        "# Example of splitting first sentence\n",
        "first_sentence = re.split(r'[.!?]+', first_text)[0].strip()\n",
        "\n",
        "# Dummy metrics function (replace with your real compare_paraphrasers_enhanced function)\n",
        "def compare_paraphrasers_enhanced(text):\n",
        "    return {\n",
        "        'pegasus': {'avg_length': 12, 'avg_sim_to_original': 0.85},\n",
        "        't5_paraphrase': {'avg_length': 14, 'avg_sim_to_original': 0.82},\n",
        "        'bart_paraphrase': {'avg_length': 11, 'avg_sim_to_original': 0.80}\n",
        "    }\n",
        "\n",
        "# Plotting function\n",
        "def plot_enhanced_paraphrasing_comparison(metrics, title=\"Paraphrasing Comparison\"):\n",
        "    fig, (ax1, ax2) = plt.subplots(1, 2, figsize=(10, 5))\n",
        "\n",
        "    # Average Length\n",
        "    ax1.bar(['PEGASUS', 'T5-Paraphrase', 'BART-Paraphrase'],\n",
        "            [metrics['pegasus']['avg_length'],\n",
        "             metrics['t5_paraphrase']['avg_length'],\n",
        "             metrics['bart_paraphrase']['avg_length']],\n",
        "            color='gold')\n",
        "    ax1.set_title('Average Paraphrase Length')\n",
        "\n",
        "    # Average Similarity to Original\n",
        "    ax2.bar(['PEGASUS', 'T5-Paraphrase', 'BART-Paraphrase'],\n",
        "            [metrics['pegasus']['avg_sim_to_original'],\n",
        "             metrics['t5_paraphrase']['avg_sim_to_original'],\n",
        "             metrics['bart_paraphrase']['avg_sim_to_original']],\n",
        "            color='lightcoral')\n",
        "    ax2.set_title('Average Similarity to Original')\n",
        "\n",
        "    plt.suptitle(title, fontsize=14)\n",
        "    plt.tight_layout(rect=[0, 0, 1, 0.95])\n",
        "    plt.show()\n",
        "\n",
        "# Call the plotting function\n",
        "plot_enhanced_paraphrasing_comparison(\n",
        "    compare_paraphrasers_enhanced(first_sentence),\n",
        "    title=\"Paraphrasing Comparison (Frankenstein Sentence)\"\n",
        ")\n"
      ]
    },
    {
      "cell_type": "code",
      "execution_count": 20,
      "metadata": {
        "colab": {
          "base_uri": "https://localhost:8080/"
        },
        "id": "61Yqbn2ocB0y",
        "outputId": "a3b8e677-e01e-41d5-87e8-011b54fbfc90"
      },
      "outputs": [
        {
          "output_type": "stream",
          "name": "stdout",
          "text": [
            "\n",
            "Bigram Analysis\n",
            "\n",
            "Text1:\n",
            "Top Bigrams: [('a transformer', 1), ('transformer transfers', 1), ('transfers electrical', 1), ('electrical energy', 1), ('energy between', 1)]\n",
            "\n",
            "Text2:\n",
            "Top Bigrams: [('the synchronous', 1), ('synchronous motor', 1), ('motor runs', 1), ('runs at', 1), ('at constant', 1)]\n"
          ]
        }
      ],
      "source": [
        "from collections import Counter\n",
        "\n",
        "# Example clean_text function\n",
        "def clean_text(text):\n",
        "    return text.lower().replace(\"\\n\", \" \").replace(\".\", \"\").replace(\",\", \"\")\n",
        "\n",
        "# Example loaded_texts dictionary with sample electrical texts\n",
        "loaded_texts = {\n",
        "    \"Text1\": {\"text\": \"A transformer transfers electrical energy between circuits through induction.\"},\n",
        "    \"Text2\": {\"text\": \"The synchronous motor runs at constant speed regardless of the applied load.\"}\n",
        "}\n",
        "\n",
        "# Bigram analysis function\n",
        "def analyze_bigrams(text):\n",
        "    \"\"\"Compute top bigrams using string splitting.\"\"\"\n",
        "    text = clean_text(text[:2000])  # Clean and limit for performance\n",
        "    words = text.split()\n",
        "    bigrams = [(words[i], words[i+1]) for i in range(len(words)-1)]\n",
        "    bigram_freq = Counter(bigrams).most_common(5)\n",
        "    return [(f\"{w1} {w2}\", count) for (w1, w2), count in bigram_freq]\n",
        "\n",
        "# Run bigram analysis\n",
        "print(\"\\nBigram Analysis\")\n",
        "for key, data in loaded_texts.items():\n",
        "    print(f\"\\n{key}:\")\n",
        "    bigrams = analyze_bigrams(data['text'])\n",
        "    print(f\"Top Bigrams: {bigrams}\")\n"
      ]
    },
    {
      "cell_type": "code",
      "execution_count": 21,
      "metadata": {
        "colab": {
          "base_uri": "https://localhost:8080/",
          "height": 797
        },
        "id": "8AZfiGIacErh",
        "outputId": "903bbef1-d942-4a73-90a1-479ddbf61883"
      },
      "outputs": [
        {
          "output_type": "display_data",
          "data": {
            "text/plain": [
              "<Figure size 800x400 with 1 Axes>"
            ],
            "image/png": "[encoded data removed]"
          },
          "metadata": {}
        },
        {
          "output_type": "display_data",
          "data": {
            "text/plain": [
              "<Figure size 800x400 with 1 Axes>"
            ],
            "image/png": "[encoded data removed]"
          },
          "metadata": {}
        }
      ],
      "source": [
        "def plot_bigrams(bigrams, title=\"Top Bigrams\"):\n",
        "    \"\"\"Plot top bigrams.\"\"\"\n",
        "    if bigrams:\n",
        "        labels, counts = zip(*bigrams)\n",
        "        plt.figure(figsize=(8, 4))\n",
        "        plt.bar(labels, counts, color='teal')\n",
        "        plt.title(title, fontsize=12)\n",
        "        plt.xticks(rotation=45)\n",
        "        plt.tight_layout()\n",
        "        plt.show()\n",
        "\n",
        "for key, data in loaded_texts.items():\n",
        "    bigrams = analyze_bigrams(data['text'])\n",
        "    plot_bigrams(bigrams, title=f\"Top Bigrams ({key})\")"
      ]
    }
  ],
  "metadata": {
    "colab": {
      "provenance": []
    },
    "kernelspec": {
      "display_name": "Python 3",
      "name": "python3"
    },
    "language_info": {
      "name": "python"
    }
  },
  "nbformat": 4,
  "nbformat_minor": 0
}